{
 "cells": [
  {
   "cell_type": "markdown",
   "metadata": {},
   "source": [
    "### BAIXAR E CONSOLIDAR ARQUIVOS DA TISS HOSPITALAR"
   ]
  },
  {
   "cell_type": "code",
   "execution_count": 31,
   "metadata": {},
   "outputs": [],
   "source": [
    "# Importar as bibliotecas necessárias\n",
    "import requests\n",
    "from bs4 import BeautifulSoup\n",
    "import zipfile\n",
    "import os\n",
    "import pandas as pd\n"
   ]
  },
  {
   "cell_type": "code",
   "execution_count": 2,
   "metadata": {},
   "outputs": [],
   "source": [
    "# Definindo os dados utilizados para padrão dos diretórios\n",
    "BASE_URL = 'https://dadosabertos.ans.gov.br/FTP/PDA/TISS/HOSPITALAR/'\n",
    "YEARS = ['2020', '2021', '2022']\n",
    "STATES = ['AC', 'AL', 'AM', 'AP', 'BA', 'CE', 'DF', 'ES', 'GO', 'MA', 'MG', 'MS', 'MT', 'PA', 'PB', 'PE', 'PI', 'PR', 'RJ', 'RN', 'RO', 'RR', 'RS', 'SC', 'SE', 'SP', 'TO']"
   ]
  },
  {
   "cell_type": "code",
   "execution_count": 5,
   "metadata": {},
   "outputs": [],
   "source": [
    "# Criação das funções necessárias\n",
    "def get_links_from_page(url):\n",
    "    page = requests.get(url)\n",
    "    soup = BeautifulSoup(page.content, 'html.parser')\n",
    "    return [link.get('href') for link in soup.find_all('a')]\n",
    "\n",
    "def download_file(url, filename):\n",
    "    response = requests.get(url, stream=True)\n",
    "    with open(filename, 'wb') as f:\n",
    "        for chunk in response.iter_content(chunk_size=8192):\n",
    "            f.write(chunk)\n"
   ]
  },
  {
   "cell_type": "code",
   "execution_count": 6,
   "metadata": {},
   "outputs": [],
   "source": [
    "# Baixando os arquivos (para este caso leva cerca de 9 minutos)\n",
    "all_files = []\n",
    "for year in YEARS:\n",
    "    for state in STATES:\n",
    "        folder_url = BASE_URL + year + '/' + state + '/'\n",
    "        local_dir = os.path.join(year, state)\n",
    "        \n",
    "        # Verificar e criar o diretório local se ele não existir\n",
    "        if not os.path.exists(local_dir):\n",
    "            os.makedirs(local_dir)\n",
    "        \n",
    "        links = get_links_from_page(folder_url)\n",
    "        for link in links:\n",
    "            if link.endswith('HOSP_CONS.zip'):\n",
    "                zip_name = os.path.join(local_dir, link)\n",
    "                full_link = folder_url + link\n",
    "                download_file(full_link, zip_name)\n",
    "\n",
    "                with zipfile.ZipFile(zip_name, 'r') as zip_ref:\n",
    "                    zip_ref.extractall(local_dir)\n",
    "                    csv_file = zip_name.replace('.zip', '.csv')\n",
    "                    all_files.append(csv_file)"
   ]
  },
  {
   "cell_type": "code",
   "execution_count": 7,
   "metadata": {},
   "outputs": [],
   "source": [
    "# Apendar CSVs\n",
    "dfs = [pd.read_csv(file) for file in all_files]\n",
    "final_df = pd.concat(dfs, ignore_index=True)\n",
    "final_df.to_csv('combined_data.csv', index=False)\n",
    "\n",
    "\n",
    "\n",
    "\n"
   ]
  }
 ],
 "metadata": {
  "kernelspec": {
   "display_name": "Python 3",
   "language": "python",
   "name": "python3"
  },
  "language_info": {
   "codemirror_mode": {
    "name": "ipython",
    "version": 3
   },
   "file_extension": ".py",
   "mimetype": "text/x-python",
   "name": "python",
   "nbconvert_exporter": "python",
   "pygments_lexer": "ipython3",
   "version": "3.11.6"
  }
 },
 "nbformat": 4,
 "nbformat_minor": 2
}
